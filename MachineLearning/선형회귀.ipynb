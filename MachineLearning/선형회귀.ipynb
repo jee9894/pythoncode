{
 "cells": [
  {
   "cell_type": "code",
   "execution_count": 29,
   "metadata": {},
   "outputs": [
    {
     "data": {
      "text/plain": [
       "((5, 1), (5, 1))"
      ]
     },
     "execution_count": 29,
     "metadata": {},
     "output_type": "execute_result"
    }
   ],
   "source": [
    "import numpy as np\n",
    "\n",
    "x_data = np.array([1,2,3,4,5]).reshape(5, 1)\n",
    "t_data = np.array([2,3,4,5,6]).reshape(5, 1)\n",
    "x_data.shape, t_data.shape"
   ]
  },
  {
   "cell_type": "code",
   "execution_count": 21,
   "metadata": {},
   "outputs": [
    {
     "data": {
      "text/plain": [
       "((5, 1), (5, 1))"
      ]
     },
     "execution_count": 21,
     "metadata": {},
     "output_type": "execute_result"
    }
   ],
   "source": [
    "raw_data = [[1,2],[2,3],[3,4],[4,5],[5,6]]\n",
    "x_data = np.array(raw_data)[:,0].reshape(-1,1)\n",
    "t_data = np.array(raw_data)[:,1].reshape(-1,1)\n",
    "x_data.shape, t_data.shape"
   ]
  },
  {
   "cell_type": "code",
   "execution_count": 36,
   "metadata": {},
   "outputs": [
    {
     "data": {
      "text/plain": [
       "(array([[0.11734211]]), 2, array([0.62295256]), 1)"
      ]
     },
     "execution_count": 36,
     "metadata": {},
     "output_type": "execute_result"
    }
   ],
   "source": [
    "W = np.random.rand(1,1)\n",
    "b = np.random.rand(1)\n",
    "W, W.ndim, b, b.ndim"
   ]
  },
  {
   "cell_type": "code",
   "execution_count": 26,
   "metadata": {},
   "outputs": [],
   "source": [
    "def loss_func(x, t):\n",
    "    y = np.dot(x, W) + b\n",
    "    return np.sum((t - y)**2) / len(x)"
   ]
  },
  {
   "cell_type": "code",
   "execution_count": 31,
   "metadata": {},
   "outputs": [],
   "source": [
    "def numerical_derivative(f, x):\n",
    "    delta_x = 1e-4\n",
    "    grad = np.zeros_like(x)\n",
    "    \n",
    "    it = np.nditer(x, flags=['multi_index'], op_flags=['readwrite'])\n",
    "    \n",
    "    while not it.finished:\n",
    "        idx = it.multi_index\n",
    "        tmp_val = x[idx]\n",
    "        x[idx] = float(tmp_val) + delta_x\n",
    "        fx1 = f(x)\n",
    "        \n",
    "        x[idx] = float(tmp_val) - delta_x\n",
    "        fx2 = f(x)\n",
    "        \n",
    "        grad[idx] = (fx1 - fx2) / (2*delta_x)\n",
    "        \n",
    "        x[idx] = tmp_val\n",
    "        it.iternext()\n",
    "    \n",
    "    return grad"
   ]
  },
  {
   "cell_type": "code",
   "execution_count": 28,
   "metadata": {},
   "outputs": [],
   "source": [
    "def error_val(x, t):\n",
    "    y = np.dot(x, W) + b\n",
    "    return np.sum((t - y)**2) / len(x)\n",
    "\n",
    "def predict(x):\n",
    "    y = np.dot(x, W) + b\n",
    "    return y"
   ]
  },
  {
   "cell_type": "code",
   "execution_count": 37,
   "metadata": {
    "collapsed": true,
    "jupyter": {
     "outputs_hidden": true
    }
   },
   "outputs": [
    {
     "name": "stdout",
     "output_type": "stream",
     "text": [
      "Initial error vlaue = 10.708922601322943\n",
      "Initial W = [[0.11734211]]\n",
      "Initial b = [0.62295256]\n",
      "\n",
      "step = 0 Initial error vlaue = 6.302137434258 Initial W = [[0.33414969]] Initial b = [0.67044452]\n",
      "\n",
      "step = 400 Initial error vlaue = 0.0003564045666919776 Initial W = [[1.01225938]] Initial b = [0.9557506]\n",
      "\n",
      "step = 800 Initial error vlaue = 2.2740718409063435e-05 Initial W = [[1.0030967]] Initial b = [0.98882267]\n",
      "\n",
      "step = 1200 Initial error vlaue = 1.4509922770083706e-06 Initial W = [[1.00078222]] Initial b = [0.99717663]\n",
      "\n",
      "step = 1600 Initial error vlaue = 9.258188549997023e-08 Initial W = [[1.00019759]] Initial b = [0.99928682]\n",
      "\n",
      "step = 2000 Initial error vlaue = 5.907271636450529e-09 Initial W = [[1.00004991]] Initial b = [0.99981985]\n",
      "\n",
      "step = 2400 Initial error vlaue = 3.769188540379714e-10 Initial W = [[1.00001261]] Initial b = [0.99995449]\n",
      "\n",
      "step = 2800 Initial error vlaue = 2.4049651223040295e-11 Initial W = [[1.00000318]] Initial b = [0.99998851]\n",
      "\n",
      "step = 3200 Initial error vlaue = 1.5345099294767076e-12 Initial W = [[1.0000008]] Initial b = [0.9999971]\n",
      "\n",
      "step = 3600 Initial error vlaue = 9.791080546991179e-14 Initial W = [[1.0000002]] Initial b = [0.99999927]\n",
      "\n",
      "step = 4000 Initial error vlaue = 6.2472882093316535e-15 Initial W = [[1.00000005]] Initial b = [0.99999981]\n",
      "\n",
      "step = 4400 Initial error vlaue = 3.9861392271167117e-16 Initial W = [[1.00000001]] Initial b = [0.99999995]\n",
      "\n",
      "step = 4800 Initial error vlaue = 2.543392528469681e-17 Initial W = [[1.]] Initial b = [0.99999999]\n",
      "\n",
      "step = 5200 Initial error vlaue = 1.622834878640314e-18 Initial W = [[1.]] Initial b = [1.]\n",
      "\n",
      "step = 5600 Initial error vlaue = 1.0354642687505347e-19 Initial W = [[1.]] Initial b = [1.]\n",
      "\n",
      "step = 6000 Initial error vlaue = 6.60684263833593e-21 Initial W = [[1.]] Initial b = [1.]\n",
      "\n",
      "step = 6400 Initial error vlaue = 4.215474513768151e-22 Initial W = [[1.]] Initial b = [1.]\n",
      "\n",
      "step = 6800 Initial error vlaue = 2.6902111951321716e-23 Initial W = [[1.]] Initial b = [1.]\n",
      "\n",
      "step = 7200 Initial error vlaue = 1.717324394914542e-24 Initial W = [[1.]] Initial b = [1.]\n",
      "\n",
      "step = 7600 Initial error vlaue = 1.1007406139742124e-25 Initial W = [[1.]] Initial b = [1.]\n",
      "\n",
      "step = 8000 Initial error vlaue = 7.096001057689306e-27 Initial W = [[1.]] Initial b = [1.]\n"
     ]
    }
   ],
   "source": [
    "learning_rate = 1e-2\n",
    "\n",
    "f = lambda x : loss_func(x_data, t_data)\n",
    "\n",
    "print('Initial error vlaue =', error_val(x_data, t_data))\n",
    "print('Initial W =', W)\n",
    "print('Initial b =', b)\n",
    "\n",
    "for step in range(8001):\n",
    "    W -= learning_rate * numerical_derivative(f, W)\n",
    "    \n",
    "    b -= learning_rate * numerical_derivative(f, b)\n",
    "    \n",
    "    if (step % 400 == 0):\n",
    "        print()\n",
    "        print('step =', step, end=' ')\n",
    "        print('Initial error vlaue =', error_val(x_data, t_data), end=' ')\n",
    "        print('Initial W =', W, end=' ')\n",
    "        print('Initial b =', b)"
   ]
  },
  {
   "cell_type": "code",
   "execution_count": 38,
   "metadata": {},
   "outputs": [
    {
     "data": {
      "text/plain": [
       "array([[44.]])"
      ]
     },
     "execution_count": 38,
     "metadata": {},
     "output_type": "execute_result"
    }
   ],
   "source": [
    "predict(43)"
   ]
  },
  {
   "cell_type": "code",
   "execution_count": 43,
   "metadata": {},
   "outputs": [
    {
     "data": {
      "text/plain": [
       "((25, 3), (25, 1))"
      ]
     },
     "execution_count": 43,
     "metadata": {},
     "output_type": "execute_result"
    }
   ],
   "source": [
    "loaded_data = np.loadtxt('data-01.csv', delimiter=',', dtype=np.float32)\n",
    "\n",
    "x_data = loaded_data[:,:-1]\n",
    "t_data = loaded_data[:, [-1]]\n",
    "\n",
    "x_data.shape, t_data.shape"
   ]
  },
  {
   "cell_type": "code",
   "execution_count": 44,
   "metadata": {},
   "outputs": [
    {
     "data": {
      "text/plain": [
       "(array([[0.30627725],\n",
       "        [0.06735405],\n",
       "        [0.09510872]]),\n",
       " array([0.27364126]))"
      ]
     },
     "execution_count": 44,
     "metadata": {},
     "output_type": "execute_result"
    }
   ],
   "source": [
    "W = np.random.rand(3,1)\n",
    "b = np.random.rand(1)\n",
    "W, b"
   ]
  },
  {
   "cell_type": "code",
   "execution_count": 47,
   "metadata": {},
   "outputs": [],
   "source": [
    "def loss_func(x, t):\n",
    "    y = np.dot(x, W) + b\n",
    "    return np.sum((t-y)**2)/len(x)"
   ]
  },
  {
   "cell_type": "code",
   "execution_count": 48,
   "metadata": {},
   "outputs": [],
   "source": [
    "def numerical_derivative(f, x):\n",
    "    delta_x = 1e-4\n",
    "    grad = np.zeros_like(x)\n",
    "    \n",
    "    it = np.nditer(x, flags=['multi_index'], op_flags=['readwrite'])\n",
    "    \n",
    "    while not it.finished:\n",
    "        idx = it.multi_index\n",
    "        tmp_val = x[idx]\n",
    "        x[idx] = float(tmp_val) + delta_x\n",
    "        fx1 = f(x)\n",
    "        \n",
    "        x[idx] = float(tmp_val) - delta_x\n",
    "        fx2 = f(x)\n",
    "        \n",
    "        grad[idx] = (fx1 - fx2) / (2*delta_x)\n",
    "        \n",
    "        x[idx] = tmp_val\n",
    "        it.iternext()\n",
    "    \n",
    "    return grad"
   ]
  },
  {
   "cell_type": "code",
   "execution_count": 49,
   "metadata": {},
   "outputs": [],
   "source": [
    "def error_val(x, t):\n",
    "    y = np.dot(x, W) + b\n",
    "    return np.sum((t - y)**2) / len(x)\n",
    "\n",
    "def predict(x):\n",
    "    y = np.dot(x, W) + b\n",
    "    return y"
   ]
  },
  {
   "cell_type": "code",
   "execution_count": 50,
   "metadata": {},
   "outputs": [
    {
     "name": "stdout",
     "output_type": "stream",
     "text": [
      "Initial error vlaue = 15823.217788547923\n",
      "Initial W = [[0.30627724932899236], [0.06735405439420028], [0.0951087209384397]]\n",
      "Initial b = [0.27364126]\n",
      "\n",
      "step = 0 Initial error vlaue = 5859.058851234886 Initial W = [[0.5070783594537499], [0.26931025374922724], [0.3020302668132146]] Initial b = [0.27515471]\n",
      "\n",
      "step = 100000 Initial error vlaue = 6.118532688889288 Initial W = [[0.3559856536523826], [0.530047141268843], [1.1260811731146625]] Initial b = [0.10732786]\n",
      "\n",
      "step = 200000 Initial error vlaue = 6.090272523674057 Initial W = [[0.3559838592239852], [0.5305189311170605], [1.1276458992263072]] Initial b = [-0.06076304]\n",
      "\n",
      "step = 300000 Initial error vlaue = 6.064110029468866 Initial W = [[0.35598213268325174], [0.5309728735832939], [1.1291514331769634]] Initial b = [-0.22249522]\n",
      "\n",
      "step = 400000 Initial error vlaue = 6.039889502170983 Initial W = [[0.3559804714559982], [0.53140964382115], [1.130600014154488]] Initial b = [-0.37810922]\n",
      "\n",
      "step = 500000 Initial error vlaue = 6.017466795146734 Initial W = [[0.355978873071392], [0.5318298914401477], [1.1319937966380371]] Initial b = [-0.52783648]\n",
      "\n",
      "step = 600000 Initial error vlaue = 5.996708461353611 Initial W = [[0.3559773351522507], [0.5322342414759174], [1.1333348536043892]] Initial b = [-0.6718997]\n",
      "\n",
      "step = 700000 Initial error vlaue = 5.977490959140243 Initial W = [[0.3559758554111343], [0.5326232953195046], [1.1346251796117313]] Initial b = [-0.81051314]\n",
      "\n",
      "step = 800000 Initial error vlaue = 5.959699916997845 Initial W = [[0.35597443164735404], [0.5329976316118368], [1.1358666937657789]] Initial b = [-0.94388296]\n",
      "\n",
      "step = 900000 Initial error vlaue = 5.943229452886611 Initial W = [[0.35597306174320764], [0.5333578071044339], [1.1370612425744295]] Initial b = [-1.07220752]\n",
      "\n",
      "step = 1000000 Initial error vlaue = 5.927981544086886 Initial W = [[0.35597174366131856], [0.5337043574874557], [1.1382106026936336]] Initial b = [-1.19567768]\n"
     ]
    }
   ],
   "source": [
    "learning_rate = 1e-5\n",
    "\n",
    "f = lambda x : loss_func(x_data, t_data)\n",
    "\n",
    "print('Initial error vlaue =', error_val(x_data, t_data))\n",
    "print('Initial W =', W.tolist())\n",
    "print('Initial b =', b)\n",
    "\n",
    "for step in range(1000001):\n",
    "    W -= learning_rate * numerical_derivative(f, W)\n",
    "    \n",
    "    b -= learning_rate * numerical_derivative(f, b)\n",
    "    \n",
    "    if (step % 100000 == 0):\n",
    "        print()\n",
    "        print('step =', step, end=' ')\n",
    "        print('Initial error vlaue =', error_val(x_data, t_data), end=' ')\n",
    "        print('Initial W =', W.tolist(), end=' ')\n",
    "        print('Initial b =', b)"
   ]
  },
  {
   "cell_type": "code",
   "execution_count": 51,
   "metadata": {},
   "outputs": [
    {
     "data": {
      "text/plain": [
       "array([201.59299271])"
      ]
     },
     "execution_count": 51,
     "metadata": {},
     "output_type": "execute_result"
    }
   ],
   "source": [
    "predict([100,100,100])"
   ]
  },
  {
   "cell_type": "code",
   "execution_count": 52,
   "metadata": {},
   "outputs": [
    {
     "data": {
      "text/plain": [
       "array([100.19865751])"
      ]
     },
     "execution_count": 52,
     "metadata": {},
     "output_type": "execute_result"
    }
   ],
   "source": [
    "predict([50,50,50])"
   ]
  },
  {
   "cell_type": "code",
   "execution_count": 67,
   "metadata": {},
   "outputs": [
    {
     "data": {
      "text/plain": [
       "<matplotlib.axes._subplots.AxesSubplot at 0x1cf9fd2bd88>"
      ]
     },
     "execution_count": 67,
     "metadata": {},
     "output_type": "execute_result"
    },
    {
     "data": {
      "image/png": "[encoded data removed]",
      "text/plain": [
       "<Figure size 432x288 with 2 Axes>"
      ]
     },
     "metadata": {
      "needs_background": "light"
     },
     "output_type": "display_data"
    }
   ],
   "source": [
    "df = pd.DataFrame(loaded_data)\n",
    "df.plot.scatter(x=1,y=2,c=3)"
   ]
  },
  {
   "cell_type": "code",
   "execution_count": 103,
   "metadata": {},
   "outputs": [],
   "source": [
    "df1 = pd.read_csv('소비자물가지수_2015100__20200731115319.csv', encoding='cp949', index_col=0).T\n",
    "#df1"
   ]
  },
  {
   "cell_type": "code",
   "execution_count": 104,
   "metadata": {},
   "outputs": [],
   "source": [
    "df2 = pd.read_csv('연간지표_20200731115525.csv', encoding='cp949', index_col=0).iloc[[0],:].T\n",
    "df2 = df2.astype('float')\n",
    "df2['국민총소득(명목, 원화표시) (십억원)'] = df2['국민총소득(명목, 원화표시) (십억원)']/1663206.60*100\n",
    "#df2"
   ]
  },
  {
   "cell_type": "code",
   "execution_count": 105,
   "metadata": {},
   "outputs": [
    {
     "data": {
      "text/plain": [
       "((55, 1), (55, 1), dtype('float64'), dtype('float64'))"
      ]
     },
     "execution_count": 105,
     "metadata": {},
     "output_type": "execute_result"
    }
   ],
   "source": [
    "x_data = np.array(df1['전국']).reshape(-1,1)\n",
    "t_data = np.array(df2['국민총소득(명목, 원화표시) (십억원)']).reshape(-1,1)\n",
    "\n",
    "x_data.shape, t_data.shape, x_data.dtype, t_data.dtype"
   ]
  },
  {
   "cell_type": "code",
   "execution_count": 106,
   "metadata": {
    "collapsed": true,
    "jupyter": {
     "outputs_hidden": true
    }
   },
   "outputs": [
    {
     "data": {
      "text/plain": [
       "(array([[  2.752],\n",
       "        [  3.062],\n",
       "        [  3.396],\n",
       "        [  3.761],\n",
       "        [  4.227],\n",
       "        [  4.902],\n",
       "        [  5.564],\n",
       "        [  6.214],\n",
       "        [  6.414],\n",
       "        [  7.973],\n",
       "        [  9.986],\n",
       "        [ 11.517],\n",
       "        [ 12.68 ],\n",
       "        [ 14.513],\n",
       "        [ 17.173],\n",
       "        [ 22.101],\n",
       "        [ 26.82 ],\n",
       "        [ 28.748],\n",
       "        [ 29.732],\n",
       "        [ 30.408],\n",
       "        [ 31.156],\n",
       "        [ 32.013],\n",
       "        [ 32.989],\n",
       "        [ 35.346],\n",
       "        [ 37.361],\n",
       "        [ 40.564],\n",
       "        [ 44.35 ],\n",
       "        [ 47.106],\n",
       "        [ 49.367],\n",
       "        [ 52.46 ],\n",
       "        [ 54.811],\n",
       "        [ 57.51 ],\n",
       "        [ 60.063],\n",
       "        [ 64.576],\n",
       "        [ 65.101],\n",
       "        [ 66.572],\n",
       "        [ 69.279],\n",
       "        [ 71.193],\n",
       "        [ 73.695],\n",
       "        [ 76.341],\n",
       "        [ 78.444],\n",
       "        [ 80.202],\n",
       "        [ 82.235],\n",
       "        [ 86.079],\n",
       "        [ 88.452],\n",
       "        [ 91.051],\n",
       "        [ 94.717],\n",
       "        [ 96.789],\n",
       "        [ 98.048],\n",
       "        [ 99.298],\n",
       "        [100.   ],\n",
       "        [100.97 ],\n",
       "        [102.93 ],\n",
       "        [104.45 ],\n",
       "        [104.85 ]]),\n",
       " array([[5.06912370e-02],\n",
       "        [6.54771331e-02],\n",
       "        [8.13993884e-02],\n",
       "        [1.04597348e-01],\n",
       "        [1.36472522e-01],\n",
       "        [1.71199417e-01],\n",
       "        [2.08290419e-01],\n",
       "        [2.57153862e-01],\n",
       "        [3.32652600e-01],\n",
       "        [4.76994259e-01],\n",
       "        [6.28803421e-01],\n",
       "        [8.66320516e-01],\n",
       "        [1.11561005e+00],\n",
       "        [1.51679894e+00],\n",
       "        [1.94479146e+00],\n",
       "        [2.36672942e+00],\n",
       "        [2.94569538e+00],\n",
       "        [3.41249848e+00],\n",
       "        [4.05061524e+00],\n",
       "        [4.65844712e+00],\n",
       "        [5.18259127e+00],\n",
       "        [6.05890453e+00],\n",
       "        [7.22843452e+00],\n",
       "        [8.70992215e+00],\n",
       "        [9.93948076e+00],\n",
       "        [1.20463267e+01],\n",
       "        [1.45643061e+01],\n",
       "        [1.66649531e+01],\n",
       "        [1.89249129e+01],\n",
       "        [2.23396600e+01],\n",
       "        [2.61774334e+01],\n",
       "        [2.94088179e+01],\n",
       "        [3.24127381e+01],\n",
       "        [3.18819201e+01],\n",
       "        [3.51687758e+01],\n",
       "        [3.89172458e+01],\n",
       "        [4.22218382e+01],\n",
       "        [4.70073171e+01],\n",
       "        [5.01707485e+01],\n",
       "        [5.45250782e+01],\n",
       "        [5.71597900e+01],\n",
       "        [6.02850361e+01],\n",
       "        [6.53495062e+01],\n",
       "        [6.94146897e+01],\n",
       "        [7.23590082e+01],\n",
       "        [7.96405510e+01],\n",
       "        [8.40265304e+01],\n",
       "        [8.74918546e+01],\n",
       "        [9.08116226e+01],\n",
       "        [9.44256294e+01],\n",
       "        [1.00000000e+02],\n",
       "        [1.05046691e+02],\n",
       "        [1.10820923e+02],\n",
       "        [1.14588140e+02],\n",
       "        [1.16384525e+02]]))"
      ]
     },
     "execution_count": 106,
     "metadata": {},
     "output_type": "execute_result"
    }
   ],
   "source": [
    "x_data, t_data"
   ]
  },
  {
   "cell_type": "code",
   "execution_count": 115,
   "metadata": {},
   "outputs": [],
   "source": [
    "def loss_func(x, t):\n",
    "    y = np.dot(x, W) + b\n",
    "    return np.sum((t-y)**2)/len(x)"
   ]
  },
  {
   "cell_type": "code",
   "execution_count": 116,
   "metadata": {},
   "outputs": [],
   "source": [
    "def numerical_derivative(f, x):\n",
    "    delta_x = 1e-4\n",
    "    grad = np.zeros_like(x)\n",
    "    \n",
    "    it = np.nditer(x, flags=['multi_index'], op_flags=['readwrite'])\n",
    "    \n",
    "    while not it.finished:\n",
    "        idx = it.multi_index\n",
    "        tmp_val = x[idx]\n",
    "        x[idx] = float(tmp_val) + delta_x\n",
    "        fx1 = f(x)\n",
    "        \n",
    "        x[idx] = float(tmp_val) - delta_x\n",
    "        fx2 = f(x)\n",
    "        \n",
    "        grad[idx] = (fx1 - fx2) / (2*delta_x)\n",
    "        \n",
    "        x[idx] = tmp_val\n",
    "        it.iternext()\n",
    "    \n",
    "    return grad"
   ]
  },
  {
   "cell_type": "code",
   "execution_count": 117,
   "metadata": {},
   "outputs": [],
   "source": [
    "def error_val(x, t):\n",
    "    y = np.dot(x, W) + b\n",
    "    return np.sum((t - y)**2) / len(x)\n",
    "\n",
    "def predict(x):\n",
    "    y = np.dot(x, W) + b\n",
    "    return y"
   ]
  },
  {
   "cell_type": "code",
   "execution_count": 138,
   "metadata": {},
   "outputs": [
    {
     "data": {
      "text/plain": [
       "(array([[0.45482838]]), array([0.24055561]))"
      ]
     },
     "execution_count": 138,
     "metadata": {},
     "output_type": "execute_result"
    }
   ],
   "source": [
    "W = np.random.rand(1,1)\n",
    "b = np.random.rand(1)\n",
    "W, b"
   ]
  },
  {
   "cell_type": "code",
   "execution_count": 139,
   "metadata": {},
   "outputs": [
    {
     "name": "stdout",
     "output_type": "stream",
     "text": [
      "Initial error vlaue = 636.1988422999273\n",
      "Initial W = [[0.454828384259659]]\n",
      "Initial b = [0.24055561]\n",
      "step = 0 Initial error vlaue = 267.8320396131044 Initial W = [[0.6950855026678397]] Initial b = [0.24032753]\n",
      "step = 10000 Initial error vlaue = 164.91073678022548 Initial W = [[0.9012971056959629]] Initial b = [-8.12916147]\n",
      "step = 20000 Initial error vlaue = 144.9950528546603 Initial W = [[0.9613199853510139]] Initial b = [-12.5167262]\n",
      "step = 30000 Initial error vlaue = 139.52226723017023 Initial W = [[0.9927846735935077]] Initial b = [-14.81673842]\n",
      "step = 40000 Initial error vlaue = 138.0183579191403 Initial W = [[1.009278827354126]] Initial b = [-16.02243144]\n",
      "step = 50000 Initial error vlaue = 137.60508698711288 Initial W = [[1.0179252536651149]] Initial b = [-16.65446968]\n",
      "step = 60000 Initial error vlaue = 137.49152105464634 Initial W = [[1.0224578104143405]] Initial b = [-16.98579144]\n",
      "step = 70000 Initial error vlaue = 137.4603133891257 Initial W = [[1.02483382912381]] Initial b = [-17.15947414]\n",
      "step = 80000 Initial error vlaue = 137.451737592089 Initial W = [[1.0260793656322733]] Initial b = [-17.25052063]\n",
      "step = 90000 Initial error vlaue = 137.44938098214797 Initial W = [[1.0267322902863356]] Initial b = [-17.29824824]\n",
      "step = 100000 Initial error vlaue = 137.448733390981 Initial W = [[1.0270745609471732]] Initial b = [-17.32326762]\n"
     ]
    }
   ],
   "source": [
    "learning_rate = 1e-4\n",
    "\n",
    "f = lambda x : loss_func(x_data, t_data)\n",
    "\n",
    "print('Initial error vlaue =', error_val(x_data, t_data))\n",
    "print('Initial W =', W.tolist())\n",
    "print('Initial b =', b)\n",
    "\n",
    "for step in range(100001):\n",
    "    W -= learning_rate * numerical_derivative(f, W)\n",
    "    \n",
    "    b -= learning_rate * numerical_derivative(f, b)\n",
    "    \n",
    "    if (step % 10000 == 0):\n",
    "#         print()\n",
    "        print('step =', step, end=' ')\n",
    "        print('Initial error vlaue =', error_val(x_data, t_data), end=' ')\n",
    "        print('Initial W =', W.tolist(), end=' ')\n",
    "        print('Initial b =', b)"
   ]
  },
  {
   "cell_type": "code",
   "execution_count": 140,
   "metadata": {},
   "outputs": [
    {
     "data": {
      "text/plain": [
       "array([[85.38418848]])"
      ]
     },
     "execution_count": 140,
     "metadata": {},
     "output_type": "execute_result"
    }
   ],
   "source": [
    "predict(100)"
   ]
  },
  {
   "cell_type": "code",
   "execution_count": null,
   "metadata": {},
   "outputs": [],
   "source": []
  }
 ],
 "metadata": {
  "kernelspec": {
   "display_name": "Python 3",
   "language": "python",
   "name": "python3"
  },
  "language_info": {
   "codemirror_mode": {
    "name": "ipython",
    "version": 3
   },
   "file_extension": ".py",
   "mimetype": "text/x-python",
   "name": "python",
   "nbconvert_exporter": "python",
   "pygments_lexer": "ipython3",
   "version": "3.7.6"
  }
 },
 "nbformat": 4,
 "nbformat_minor": 4
}
