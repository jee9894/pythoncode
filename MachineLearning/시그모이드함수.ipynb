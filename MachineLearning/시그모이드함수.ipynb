{
 "cells": [
  {
   "cell_type": "code",
   "execution_count": 1,
   "metadata": {},
   "outputs": [],
   "source": [
    "import numpy as np"
   ]
  },
  {
   "cell_type": "code",
   "execution_count": 20,
   "metadata": {
    "collapsed": true,
    "jupyter": {
     "outputs_hidden": true
    }
   },
   "outputs": [
    {
     "data": {
      "text/plain": [
       "(array([[ 2],\n",
       "        [ 4],\n",
       "        [ 6],\n",
       "        [ 8],\n",
       "        [10],\n",
       "        [12],\n",
       "        [14],\n",
       "        [16],\n",
       "        [18],\n",
       "        [20]]),\n",
       " array([[0],\n",
       "        [0],\n",
       "        [0],\n",
       "        [0],\n",
       "        [0],\n",
       "        [0],\n",
       "        [1],\n",
       "        [1],\n",
       "        [1],\n",
       "        [1]]))"
      ]
     },
     "execution_count": 20,
     "metadata": {},
     "output_type": "execute_result"
    }
   ],
   "source": [
    "x_data = np.arange(2,21,2).reshape(-1,1)\n",
    "t_data = np.array([0,0,0,0,0,0,1,1,1,1]).reshape(-1,1)\n",
    "x_data, t_data"
   ]
  },
  {
   "cell_type": "code",
   "execution_count": 21,
   "metadata": {},
   "outputs": [
    {
     "data": {
      "text/plain": [
       "(array([[0.75165814]]), array([0.74839454]))"
      ]
     },
     "execution_count": 21,
     "metadata": {},
     "output_type": "execute_result"
    }
   ],
   "source": [
    "W = np.random.rand(1,1)\n",
    "b = np.random.rand(1)\n",
    "W, b"
   ]
  },
  {
   "cell_type": "code",
   "execution_count": 22,
   "metadata": {},
   "outputs": [],
   "source": [
    "def sigmoid(x):\n",
    "    return 1 / (1 + np.exp(-x))\n",
    "\n",
    "def loss_func(x, t):\n",
    "    delta = 1e-7\n",
    "    z = np.dot(x, W) + b\n",
    "    y = sigmoid(z)\n",
    "    return -np.sum(t*np.log(y+delta) + (1-t)*np.log((1-y)+delta))"
   ]
  },
  {
   "cell_type": "code",
   "execution_count": 23,
   "metadata": {},
   "outputs": [],
   "source": [
    "def numerical_derivative(f, x):\n",
    "    delta_x = 1e-4\n",
    "    grad = np.zeros_like(x)\n",
    "    \n",
    "    it = np.nditer(x, flags=['multi_index'], op_flags=['readwrite'])\n",
    "    \n",
    "    while not it.finished:\n",
    "        idx = it.multi_index\n",
    "        tmp_val = x[idx]\n",
    "        x[idx] = float(tmp_val) + delta_x\n",
    "        fx1 = f(x)\n",
    "        \n",
    "        x[idx] = float(tmp_val) - delta_x\n",
    "        fx2 = f(x)\n",
    "        \n",
    "        grad[idx] = (fx1 - fx2) / (2*delta_x)\n",
    "        \n",
    "        x[idx] = tmp_val\n",
    "        it.iternext()\n",
    "    \n",
    "    return grad"
   ]
  },
  {
   "cell_type": "code",
   "execution_count": 24,
   "metadata": {},
   "outputs": [],
   "source": [
    "def error_val(x, t):\n",
    "    delta = 1e-7\n",
    "    z = np.dot(x, W) + b\n",
    "    y = sigmoid(z)\n",
    "    return -np.sum(t*np.log(y+delta) + (1-t)*np.log((1-y)+delta))\n",
    "\n",
    "def predict(x):\n",
    "    z = np.dot(x, W) + b\n",
    "    y = sigmoid(z)\n",
    "    \n",
    "    if y >= 0.5:\n",
    "        result = 1\n",
    "    else :\n",
    "        result = 0\n",
    "        \n",
    "    return y, result"
   ]
  },
  {
   "cell_type": "code",
   "execution_count": 25,
   "metadata": {},
   "outputs": [
    {
     "name": "stdout",
     "output_type": "stream",
     "text": [
      "Initial error vlaue = 36.187615062509714\n",
      "Initial W = [[0.7516581413458232]]\n",
      "Initial b = [0.74839454]\n",
      "step = 0 Initial error vlaue = 34.419358058614286 Initial W = [[0.7100094495377738]] Initial b = [0.74253422]\n",
      "step = 10000 Initial error vlaue = 1.711730776006148 Initial W = [[0.4722432696689025]] Initial b = [-5.89274137]\n",
      "step = 20000 Initial error vlaue = 1.2672965685805329 Initial W = [[0.628813279455652]] Initial b = [-7.97278553]\n",
      "step = 30000 Initial error vlaue = 1.066377373114322 Initial W = [[0.7353966753044481]] Initial b = [-9.38175845]\n",
      "step = 40000 Initial error vlaue = 0.9430331688285216 Initial W = [[0.8193117119649982]] Initial b = [-10.48766802]\n",
      "step = 50000 Initial error vlaue = 0.8563274663603105 Initial W = [[0.889863142749873]] Initial b = [-11.41550872]\n",
      "step = 60000 Initial error vlaue = 0.7904984492292426 Initial W = [[0.9514507608365811]] Initial b = [-12.22422143]\n",
      "step = 70000 Initial error vlaue = 0.7379749972797566 Initial W = [[1.006537193430919]] Initial b = [-12.94671686]\n",
      "step = 80000 Initial error vlaue = 0.6945913204285041 Initial W = [[1.0566533870728438]] Initial b = [-13.60341264]\n",
      "step = 90000 Initial error vlaue = 0.657832555735382 Initial W = [[1.1028223905441181]] Initial b = [-14.20792877]\n",
      "step = 100000 Initial error vlaue = 0.6260742222007152 Initial W = [[1.1457650428159811]] Initial b = [-14.76984733]\n"
     ]
    }
   ],
   "source": [
    "learning_rate = 1e-3\n",
    "\n",
    "f = lambda x : loss_func(x_data, t_data)\n",
    "\n",
    "print('Initial error vlaue =', error_val(x_data, t_data))\n",
    "print('Initial W =', W.tolist())\n",
    "print('Initial b =', b)\n",
    "\n",
    "for step in range(100001):\n",
    "    W -= learning_rate * numerical_derivative(f, W)\n",
    "    b -= learning_rate * numerical_derivative(f, b)\n",
    "    \n",
    "    if (step % 10000 == 0):\n",
    "        print('step =', step, end=' ')\n",
    "        print('Initial error vlaue =', error_val(x_data, t_data), end=' ')\n",
    "        print('Initial W =', W.tolist(), end=' ')\n",
    "        print('Initial b =', b)"
   ]
  },
  {
   "cell_type": "code",
   "execution_count": 26,
   "metadata": {},
   "outputs": [
    {
     "data": {
      "text/plain": [
       "(array([[0.26489753]]), 0)"
      ]
     },
     "execution_count": 26,
     "metadata": {},
     "output_type": "execute_result"
    }
   ],
   "source": [
    "predict(12)"
   ]
  },
  {
   "cell_type": "code",
   "execution_count": 27,
   "metadata": {},
   "outputs": [
    {
     "data": {
      "text/plain": [
       "(array([[0.53123384]]), 1)"
      ]
     },
     "execution_count": 27,
     "metadata": {},
     "output_type": "execute_result"
    }
   ],
   "source": [
    "predict(13)"
   ]
  },
  {
   "cell_type": "code",
   "execution_count": 30,
   "metadata": {},
   "outputs": [
    {
     "data": {
      "text/plain": [
       "array([[ 2.,  4.,  0.],\n",
       "       [ 4., 11.,  0.],\n",
       "       [ 6.,  6.,  0.],\n",
       "       [ 8.,  5.,  0.],\n",
       "       [10.,  7.,  1.],\n",
       "       [12., 16.,  1.],\n",
       "       [14.,  8.,  1.],\n",
       "       [16.,  3.,  1.],\n",
       "       [18.,  7.,  1.]], dtype=float32)"
      ]
     },
     "execution_count": 30,
     "metadata": {},
     "output_type": "execute_result"
    }
   ],
   "source": [
    "loaded_data = np.loadtxt('c_data.csv', delimiter=',', dtype=np.float32)\n",
    "loaded_data"
   ]
  },
  {
   "cell_type": "code",
   "execution_count": 34,
   "metadata": {},
   "outputs": [
    {
     "data": {
      "text/plain": [
       "((9, 2), (9, 1))"
      ]
     },
     "execution_count": 34,
     "metadata": {},
     "output_type": "execute_result"
    }
   ],
   "source": [
    "x_data = loaded_data[:,:-1]\n",
    "t_data = loaded_data[:,[-1]]\n",
    "x_data.shape, t_data.shape"
   ]
  },
  {
   "cell_type": "code",
   "execution_count": 35,
   "metadata": {},
   "outputs": [
    {
     "name": "stdout",
     "output_type": "stream",
     "text": [
      "Initial error vlaue = 24.93498609620595\n",
      "Initial W = [[0.731189854929079], [0.33850876437220934]]\n",
      "Initial b = [0.36684485]\n",
      "step = 0 Initial error vlaue = 23.857141924723276 Initial W = [[0.7112864140539636], [0.3126899056101371]] Initial b = [0.36289418]\n",
      "step = 10000 Initial error vlaue = 1.4058832520827274 Initial W = [[0.5840805103528184], [-0.006247099966179226]] Initial b = [-4.88204437]\n",
      "step = 20000 Initial error vlaue = 0.9763021977493552 Initial W = [[0.7531740084215048], [0.054350466862556956]] Initial b = [-6.9225614]\n",
      "step = 30000 Initial error vlaue = 0.7918215903852103 Initial W = [[0.8703706208777539], [0.09405931833708281]] Initial b = [-8.27004885]\n",
      "step = 40000 Initial error vlaue = 0.6820774456950298 Initial W = [[0.960794326392903], [0.12792184297147324]] Initial b = [-9.31147816]\n",
      "step = 50000 Initial error vlaue = 0.6060477072114384 Initial W = [[1.0344457680175774], [0.15995588028958652]] Initial b = [-10.17900995]\n",
      "step = 60000 Initial error vlaue = 0.5486325640831304 Initial W = [[1.096516605807572], [0.19140980279627218]] Initial b = [-10.93319754]\n",
      "step = 70000 Initial error vlaue = 0.5028647369278856 Initial W = [[1.1501819915349145], [0.22251519000585396]] Initial b = [-11.60669452]\n",
      "step = 80000 Initial error vlaue = 0.46503771241368924 Initial W = [[1.197582431504796], [0.2531032528999697]] Initial b = [-12.2190477]\n",
      "step = 90000 Initial error vlaue = 0.43297318405381174 Initial W = [[1.240225495234384], [0.2828996435987472]] Initial b = [-12.78286094]\n",
      "step = 100000 Initial error vlaue = 0.4052902714020806 Initial W = [[1.2791841247569526], [0.31166721515281776]] Initial b = [-13.30674967]\n"
     ]
    }
   ],
   "source": [
    "W = np.random.rand(2,1)\n",
    "b = np.random.rand(1)\n",
    "W, b\n",
    "\n",
    "def sigmoid(x):\n",
    "    return 1 / (1 + np.exp(-x))\n",
    "\n",
    "def loss_func(x, t):\n",
    "    delta = 1e-7\n",
    "    z = np.dot(x, W) + b\n",
    "    y = sigmoid(z)\n",
    "    return -np.sum(t*np.log(y+delta) + (1-t)*np.log((1-y)+delta))\n",
    "\n",
    "def numerical_derivative(f, x):\n",
    "    delta_x = 1e-4\n",
    "    grad = np.zeros_like(x)\n",
    "    \n",
    "    it = np.nditer(x, flags=['multi_index'], op_flags=['readwrite'])\n",
    "    \n",
    "    while not it.finished:\n",
    "        idx = it.multi_index\n",
    "        tmp_val = x[idx]\n",
    "        x[idx] = float(tmp_val) + delta_x\n",
    "        fx1 = f(x)\n",
    "        \n",
    "        x[idx] = float(tmp_val) - delta_x\n",
    "        fx2 = f(x)\n",
    "        \n",
    "        grad[idx] = (fx1 - fx2) / (2*delta_x)\n",
    "        \n",
    "        x[idx] = tmp_val\n",
    "        it.iternext()\n",
    "    \n",
    "    return grad\n",
    "\n",
    "def error_val(x, t):\n",
    "    delta = 1e-7\n",
    "    z = np.dot(x, W) + b\n",
    "    y = sigmoid(z)\n",
    "    return -np.sum(t*np.log(y+delta) + (1-t)*np.log((1-y)+delta))\n",
    "\n",
    "def predict(x):\n",
    "    z = np.dot(x, W) + b\n",
    "    y = sigmoid(z)\n",
    "    \n",
    "    if y >= 0.5:\n",
    "        result = 1\n",
    "    else :\n",
    "        result = 0\n",
    "        \n",
    "    return y, result\n",
    "\n",
    "learning_rate = 1e-3\n",
    "\n",
    "f = lambda x : loss_func(x_data, t_data)\n",
    "\n",
    "print('Initial error vlaue =', error_val(x_data, t_data))\n",
    "print('Initial W =', W.tolist())\n",
    "print('Initial b =', b)\n",
    "\n",
    "for step in range(100001):\n",
    "    W -= learning_rate * numerical_derivative(f, W)\n",
    "    b -= learning_rate * numerical_derivative(f, b)\n",
    "    \n",
    "    if (step % 10000 == 0):\n",
    "        print('step =', step, end=' ')\n",
    "        print('Initial error vlaue =', error_val(x_data, t_data), end=' ')\n",
    "        print('Initial W =', W.tolist(), end=' ')\n",
    "        print('Initial b =', b)"
   ]
  },
  {
   "cell_type": "code",
   "execution_count": 36,
   "metadata": {},
   "outputs": [
    {
     "data": {
      "text/plain": [
       "(array([0.01520432]), 0)"
      ]
     },
     "execution_count": 36,
     "metadata": {},
     "output_type": "execute_result"
    }
   ],
   "source": [
    "predict([3,17])"
   ]
  },
  {
   "cell_type": "code",
   "execution_count": 44,
   "metadata": {},
   "outputs": [
    {
     "data": {
      "text/plain": [
       "(array([0.0643112]), 0)"
      ]
     },
     "execution_count": 44,
     "metadata": {},
     "output_type": "execute_result"
    }
   ],
   "source": [
    "predict([1,30])"
   ]
  },
  {
   "cell_type": "code",
   "execution_count": null,
   "metadata": {},
   "outputs": [],
   "source": []
  }
 ],
 "metadata": {
  "kernelspec": {
   "display_name": "Python 3",
   "language": "python",
   "name": "python3"
  },
  "language_info": {
   "codemirror_mode": {
    "name": "ipython",
    "version": 3
   },
   "file_extension": ".py",
   "mimetype": "text/x-python",
   "name": "python",
   "nbconvert_exporter": "python",
   "pygments_lexer": "ipython3",
   "version": "3.7.6"
  }
 },
 "nbformat": 4,
 "nbformat_minor": 4
}
